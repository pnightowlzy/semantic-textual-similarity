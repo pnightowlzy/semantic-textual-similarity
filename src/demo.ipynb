{
 "cells": [
  {
   "cell_type": "code",
   "execution_count": 1,
   "id": "49598ac6",
   "metadata": {},
   "outputs": [
    {
     "name": "stdout",
     "output_type": "stream",
     "text": [
      "{'sentence1': '找一部小时候的动画片', 'sentence2': '求一部小时候的动画片。谢了', 'label': '1'}\n",
      "positive: 3999, negative: 6001\n"
     ]
    }
   ],
   "source": [
    "import json\n",
    "import matplotlib.pyplot as plt\n",
    "import numpy as np\n",
    "\n",
    "data_path = \"data/train_pair_1w.json\"\n",
    "s1 = \"sentence1\"\n",
    "s2 = \"sentence2\"\n",
    "thresholds = np.arange(0, 1.05, 0.05)\n",
    "\n",
    "\n",
    "pairs = []\n",
    "corpus = []\n",
    "labels = []\n",
    "positive = 0\n",
    "with open(data_path) as f:\n",
    "    for line in f.readlines():\n",
    "        pair = json.loads(line)\n",
    "        pairs.append(pair)\n",
    "        corpus += [pair[s1], pair[s2]]\n",
    "        labels.append(int(pair['label']))\n",
    "        positive += int(pair['label'])\n",
    "        \n",
    "            \n",
    "print(pairs[0])        \n",
    "print(f\"positive: {positive}, negative: {len(pairs)-positive}\")"
   ]
  },
  {
   "cell_type": "code",
   "execution_count": 2,
   "id": "237f0699",
   "metadata": {},
   "outputs": [
    {
     "data": {
      "text/plain": [
       "3999"
      ]
     },
     "execution_count": 2,
     "metadata": {},
     "output_type": "execute_result"
    }
   ],
   "source": [
    "sum(labels)"
   ]
  },
  {
   "cell_type": "markdown",
   "id": "05b748a2",
   "metadata": {},
   "source": [
    "# Evaluation Method\n"
   ]
  },
  {
   "cell_type": "code",
   "execution_count": null,
   "id": "2125eee4",
   "metadata": {},
   "outputs": [],
   "source": [
    "class Evaluator:\n",
    "    def __init__(self):\n",
    "        "
   ]
  },
  {
   "cell_type": "markdown",
   "id": "1f6e10df",
   "metadata": {},
   "source": [
    "# tf-idf"
   ]
  },
  {
   "cell_type": "code",
   "execution_count": 165,
   "id": "f14c8a16",
   "metadata": {},
   "outputs": [],
   "source": [
    "# TF-IDF\n",
    "from sklearn.feature_extraction.text import TfidfVectorizer\n",
    "from sklearn.metrics.pairwise import cosine_similarity\n",
    "import jieba\n",
    "\n",
    "\n",
    "class TFIDF:\n",
    "    def __init__(self):\n",
    "        # 创建TF-IDF向量化器\n",
    "        self.vectorizer = TfidfVectorizer()\n",
    "        \n",
    "    def segmentation(self, sentences):\n",
    "        result = [list(jieba.cut(s, cut_all=False)) for s in sentences]\n",
    "#         print(result)\n",
    "        return result\n",
    "    \n",
    "    def fit(self, corpus):\n",
    "        self.vectorizer = self.vectorizer.fit(corpus)\n",
    "\n",
    "    def get_similarity(self, sentences):\n",
    "        # 分词\n",
    "\n",
    "        sentences = self.segmentation(sentences)\n",
    "        sentences = [\" \".join(s) for s in sentences]\n",
    "        \n",
    "        # 将句子转换为TF-IDF向量\n",
    "        tfidf_matrix = self.vectorizer.transform(sentences)\n",
    "        # 计算两个句子的相似度\n",
    "\n",
    "        similarity = cosine_similarity(tfidf_matrix[0:1], tfidf_matrix[1:2])\n",
    "        # 返回相似度\n",
    "        return round(similarity[0][0],4)\n"
   ]
  },
  {
   "cell_type": "code",
   "execution_count": 166,
   "id": "70166d24",
   "metadata": {},
   "outputs": [],
   "source": [
    "def evaluate(evaluator):\n",
    "    correct = 0\n",
    "    scores = []\n",
    "    for i, pair in enumerate(pairs):\n",
    "#         print(f\"pair {i}: {pair['sentence1']}, {pair['sentence2']}\")\n",
    "        label = pair['label']\n",
    "        sentences = [pair['sentence1'], pair['sentence2']]\n",
    "        \n",
    "        similarity_score = evaluator.get_similarity(sentences)\n",
    "        \n",
    "        scores.append(similarity_score)\n",
    "\n",
    "    return scores"
   ]
  },
  {
   "cell_type": "code",
   "execution_count": 167,
   "id": "a40060dc",
   "metadata": {},
   "outputs": [],
   "source": [
    "tfidf = TFIDF()\n",
    "\n",
    "tfidf.fit(corpus)\n",
    "\n"
   ]
  },
  {
   "cell_type": "code",
   "execution_count": 180,
   "id": "67346394",
   "metadata": {},
   "outputs": [
    {
     "data": {
      "image/png": "[encoded data removed]",
      "text/plain": [
       "<Figure size 640x480 with 1 Axes>"
      ]
     },
     "metadata": {},
     "output_type": "display_data"
    }
   ],
   "source": [
    "import pandas as pd\n",
    "\n",
    "scores = evaluate(tfidf, t=0.5)\n",
    "\n",
    "results = pd.DataFrame({'score': scores, 'label': labels})\n",
    "accuracy = []\n",
    "for t in thresholds:\n",
    "    t = round(t, 2)\n",
    "    col_name = f't: {t}'\n",
    "    results[col_name] = results['score'].apply(lambda x: x >= t)\n",
    "    results[col_name] = results[col_name] == results['label']\n",
    "    accuracy.append(sum(results[col_name])/ len(results))\n",
    "    \n",
    "plt.plot(thresholds, accuracy)\n",
    "plt.show()\n"
   ]
  },
  {
   "cell_type": "markdown",
   "id": "8c1105b3",
   "metadata": {},
   "source": [
    "# n-gram"
   ]
  },
  {
   "cell_type": "code",
   "execution_count": 172,
   "id": "41e92bcb",
   "metadata": {},
   "outputs": [],
   "source": [
    "class NGram:\n",
    "    def __init__(self, n):\n",
    "        self.n = n\n",
    "        \n",
    "    def segmentation(self, sentences):\n",
    "        result = [list(jieba.cut(s, cut_all=False)) for s in sentences]\n",
    "        return result        \n",
    "        \n",
    "    def get_similarity(self, sentences):\n",
    "        sentences = self.segmentation(sentences)\n",
    "        sentences = [\" \".join(s) for s in sentences]\n",
    "        n_grams = [self.generate_ngrams(s, self.n)  for s in sentences]\n",
    "        similarity = self.calculate_similarity(n_grams[0], n_grams[1])\n",
    "        return similarity\n",
    "\n",
    "    def generate_ngrams(self, text, n):\n",
    "        \"\"\"生成句子的N-gram表示\"\"\"\n",
    "        words = text.split(\" \")  # 假设句子已经分词\n",
    "        ngrams = set()\n",
    "        for i in range(len(words) - n + 1):\n",
    "            ngram = ' '.join(words[i:i + n])\n",
    "            ngrams.add(ngram)\n",
    "        return ngrams\n",
    "\n",
    "    def calculate_similarity(self, ngrams1, ngrams2):\n",
    "        \"\"\"计算两个N-gram集合的相似度\"\"\"\n",
    "        intersection = ngrams1.intersection(ngrams2)\n",
    "        union = ngrams1.union(ngrams2)\n",
    "        similarity_score = len(intersection) / len(union) if union else 0\n",
    "        return similarity_score"
   ]
  },
  {
   "cell_type": "code",
   "execution_count": 173,
   "id": "77b89774",
   "metadata": {},
   "outputs": [],
   "source": [
    "ngram = NGram(3)"
   ]
  },
  {
   "cell_type": "code",
   "execution_count": 177,
   "id": "e3b80764",
   "metadata": {},
   "outputs": [
    {
     "data": {
      "image/png": "[encoded data removed]",
      "text/plain": [
       "<Figure size 640x480 with 1 Axes>"
      ]
     },
     "metadata": {},
     "output_type": "display_data"
    }
   ],
   "source": [
    "import pandas as pd\n",
    "\n",
    "scores = evaluate(ngram, t=0.5)\n",
    "\n",
    "results = pd.DataFrame({'score': scores, 'label': labels})\n",
    "accuracy = []\n",
    "for t in thresholds:\n",
    "    t = round(t, 2)\n",
    "    col_name = f't: {t}'\n",
    "    results[col_name] = results['score'].apply(lambda x: x >= t)\n",
    "    results[col_name] = results[col_name] == results['label']\n",
    "    accuracy.append(sum(results[col_name])/len(results))\n",
    "    \n",
    "plt.plot(thresholds, accuracy)\n",
    "plt.show()"
   ]
  },
  {
   "cell_type": "markdown",
   "id": "3818cee6",
   "metadata": {},
   "source": [
    "# "
   ]
  },
  {
   "cell_type": "code",
   "execution_count": null,
   "id": "c9cf086c",
   "metadata": {},
   "outputs": [],
   "source": [
    "\n",
    "\n"
   ]
  },
  {
   "cell_type": "code",
   "execution_count": null,
   "id": "c18ffc5b",
   "metadata": {},
   "outputs": [],
   "source": []
  },
  {
   "cell_type": "code",
   "execution_count": null,
   "id": "7c87c8cf",
   "metadata": {},
   "outputs": [],
   "source": []
  },
  {
   "cell_type": "code",
   "execution_count": null,
   "id": "c2aeb4a5",
   "metadata": {},
   "outputs": [],
   "source": []
  },
  {
   "cell_type": "code",
   "execution_count": null,
   "id": "faf53145",
   "metadata": {},
   "outputs": [],
   "source": []
  },
  {
   "cell_type": "code",
   "execution_count": null,
   "id": "6b02bb40",
   "metadata": {},
   "outputs": [],
   "source": []
  }
 ],
 "metadata": {
  "kernelspec": {
   "display_name": "Python 3 (ipykernel)",
   "language": "python",
   "name": "python3"
  },
  "language_info": {
   "codemirror_mode": {
    "name": "ipython",
    "version": 3
   },
   "file_extension": ".py",
   "mimetype": "text/x-python",
   "name": "python",
   "nbconvert_exporter": "python",
   "pygments_lexer": "ipython3",
   "version": "3.11.9"
  },
  "toc": {
   "base_numbering": 1,
   "nav_menu": {},
   "number_sections": true,
   "sideBar": true,
   "skip_h1_title": false,
   "title_cell": "Table of Contents",
   "title_sidebar": "Contents",
   "toc_cell": false,
   "toc_position": {},
   "toc_section_display": true,
   "toc_window_display": false
  }
 },
 "nbformat": 4,
 "nbformat_minor": 5
}
