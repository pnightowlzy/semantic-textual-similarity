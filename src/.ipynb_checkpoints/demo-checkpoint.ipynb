{
 "cells": [
  {
   "cell_type": "code",
   "execution_count": 5,
   "id": "c14801d5",
   "metadata": {},
   "outputs": [
    {
     "name": "stdout",
     "output_type": "stream",
     "text": [
      "{'sentence1': '找一部小时候的动画片', 'sentence2': '求一部小时候的动画片。谢了', 'label': '1'}\n",
      "positive: 3999, negative: 6001\n"
     ]
    }
   ],
   "source": [
    "import json\n",
    "\n",
    "data_path = \"data/train_pair_1w.json\"\n",
    "\n",
    "pairs = []\n",
    "positive = 0\n",
    "with open(data_path) as f:\n",
    "    for line in f.readlines():\n",
    "        pair = json.loads(line)\n",
    "        pairs.append(pair)\n",
    "        positive += int(pair['label'])\n",
    "        \n",
    "            \n",
    "print(pairs[0])        \n",
    "print(f\"positive: {positive}, negative: {len(pairs)-positive}\")"
   ]
  },
  {
   "cell_type": "code",
   "execution_count": 6,
   "id": "fd2a9b76",
   "metadata": {},
   "outputs": [],
   "source": [
    "# TF-IDF\n",
    "from sklearn.feature_extraction.text import TfidfVectorizer\n",
    "from sklearn.metrics.pairwise import cosine_similarity\n",
    "\n",
    "\n",
    "class TFIDF:\n",
    "    def __init__(self):\n",
    "        # 创建TF-IDF向量化器\n",
    "        self.vectorizer = TfidfVectorizer()\n",
    "\n",
    "    def get_similarity(self, sentence1, sentence2):\n",
    "        # 将句子转换为TF-IDF向量\n",
    "        tfidf_matrix = self.vectorizer.transform([sentence1, sentence2])\n",
    "        # 计算两个句子的相似度\n",
    "        similarity = cosine_similarity(tfidf_matrix[0:1], tfidf_matrix[1:2])\n",
    "        # 返回相似度\n",
    "        return similarity[0][0]\n"
   ]
  },
  {
   "cell_type": "code",
   "execution_count": null,
   "id": "ade2164b",
   "metadata": {},
   "outputs": [],
   "source": [
    "tfidf = TFIDF()"
   ]
  }
 ],
 "metadata": {
  "kernelspec": {
   "display_name": "Python 3 (ipykernel)",
   "language": "python",
   "name": "python3"
  },
  "language_info": {
   "codemirror_mode": {
    "name": "ipython",
    "version": 3
   },
   "file_extension": ".py",
   "mimetype": "text/x-python",
   "name": "python",
   "nbconvert_exporter": "python",
   "pygments_lexer": "ipython3",
   "version": "3.11.9"
  },
  "toc": {
   "base_numbering": 1,
   "nav_menu": {},
   "number_sections": true,
   "sideBar": true,
   "skip_h1_title": false,
   "title_cell": "Table of Contents",
   "title_sidebar": "Contents",
   "toc_cell": false,
   "toc_position": {},
   "toc_section_display": true,
   "toc_window_display": false
  }
 },
 "nbformat": 4,
 "nbformat_minor": 5
}
